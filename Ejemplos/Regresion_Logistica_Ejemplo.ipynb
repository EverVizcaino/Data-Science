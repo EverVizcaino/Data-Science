{
 "cells": [
  {
   "cell_type": "markdown",
   "id": "37b0c2c6",
   "metadata": {},
   "source": [
    "## Regresion  Logistica"
   ]
  },
  {
   "cell_type": "code",
   "execution_count": 16,
   "id": "8c0fcf91",
   "metadata": {},
   "outputs": [],
   "source": [
    "import numpy as np\n",
    "import pandas as pd \n",
    "import matplotlib.pyplot as plt\n",
    "import seaborn as sns\n",
    "sns.set()"
   ]
  },
  {
   "cell_type": "markdown",
   "id": "fcd9d197",
   "metadata": {},
   "source": [
    "### Carga de datos"
   ]
  },
  {
   "cell_type": "code",
   "execution_count": 17,
   "id": "12f55487",
   "metadata": {},
   "outputs": [
    {
     "data": {
      "text/html": [
       "<div>\n",
       "<style scoped>\n",
       "    .dataframe tbody tr th:only-of-type {\n",
       "        vertical-align: middle;\n",
       "    }\n",
       "\n",
       "    .dataframe tbody tr th {\n",
       "        vertical-align: top;\n",
       "    }\n",
       "\n",
       "    .dataframe thead th {\n",
       "        text-align: right;\n",
       "    }\n",
       "</style>\n",
       "<table border=\"1\" class=\"dataframe\">\n",
       "  <thead>\n",
       "    <tr style=\"text-align: right;\">\n",
       "      <th></th>\n",
       "      <th>SAT</th>\n",
       "      <th>Admitted</th>\n",
       "    </tr>\n",
       "  </thead>\n",
       "  <tbody>\n",
       "    <tr>\n",
       "      <th>0</th>\n",
       "      <td>1363</td>\n",
       "      <td>No</td>\n",
       "    </tr>\n",
       "    <tr>\n",
       "      <th>1</th>\n",
       "      <td>1792</td>\n",
       "      <td>Yes</td>\n",
       "    </tr>\n",
       "    <tr>\n",
       "      <th>2</th>\n",
       "      <td>1954</td>\n",
       "      <td>Yes</td>\n",
       "    </tr>\n",
       "    <tr>\n",
       "      <th>3</th>\n",
       "      <td>1653</td>\n",
       "      <td>No</td>\n",
       "    </tr>\n",
       "    <tr>\n",
       "      <th>4</th>\n",
       "      <td>1593</td>\n",
       "      <td>No</td>\n",
       "    </tr>\n",
       "    <tr>\n",
       "      <th>...</th>\n",
       "      <td>...</td>\n",
       "      <td>...</td>\n",
       "    </tr>\n",
       "    <tr>\n",
       "      <th>163</th>\n",
       "      <td>1722</td>\n",
       "      <td>Yes</td>\n",
       "    </tr>\n",
       "    <tr>\n",
       "      <th>164</th>\n",
       "      <td>1750</td>\n",
       "      <td>Yes</td>\n",
       "    </tr>\n",
       "    <tr>\n",
       "      <th>165</th>\n",
       "      <td>1555</td>\n",
       "      <td>No</td>\n",
       "    </tr>\n",
       "    <tr>\n",
       "      <th>166</th>\n",
       "      <td>1524</td>\n",
       "      <td>No</td>\n",
       "    </tr>\n",
       "    <tr>\n",
       "      <th>167</th>\n",
       "      <td>1461</td>\n",
       "      <td>No</td>\n",
       "    </tr>\n",
       "  </tbody>\n",
       "</table>\n",
       "<p>168 rows × 2 columns</p>\n",
       "</div>"
      ],
      "text/plain": [
       "      SAT Admitted\n",
       "0    1363       No\n",
       "1    1792      Yes\n",
       "2    1954      Yes\n",
       "3    1653       No\n",
       "4    1593       No\n",
       "..    ...      ...\n",
       "163  1722      Yes\n",
       "164  1750      Yes\n",
       "165  1555       No\n",
       "166  1524       No\n",
       "167  1461       No\n",
       "\n",
       "[168 rows x 2 columns]"
      ]
     },
     "execution_count": 17,
     "metadata": {},
     "output_type": "execute_result"
    }
   ],
   "source": [
    "raw_data= pd.read_csv('2.01.+Admittance.csv')\n",
    "raw_data"
   ]
  },
  {
   "cell_type": "markdown",
   "id": "3031d2f1",
   "metadata": {},
   "source": [
    "Convertimos a variables dummy (Yes, No)"
   ]
  },
  {
   "cell_type": "code",
   "execution_count": 18,
   "id": "284820b1",
   "metadata": {},
   "outputs": [
    {
     "data": {
      "text/html": [
       "<div>\n",
       "<style scoped>\n",
       "    .dataframe tbody tr th:only-of-type {\n",
       "        vertical-align: middle;\n",
       "    }\n",
       "\n",
       "    .dataframe tbody tr th {\n",
       "        vertical-align: top;\n",
       "    }\n",
       "\n",
       "    .dataframe thead th {\n",
       "        text-align: right;\n",
       "    }\n",
       "</style>\n",
       "<table border=\"1\" class=\"dataframe\">\n",
       "  <thead>\n",
       "    <tr style=\"text-align: right;\">\n",
       "      <th></th>\n",
       "      <th>SAT</th>\n",
       "      <th>Admitted</th>\n",
       "    </tr>\n",
       "  </thead>\n",
       "  <tbody>\n",
       "    <tr>\n",
       "      <th>0</th>\n",
       "      <td>1363</td>\n",
       "      <td>0</td>\n",
       "    </tr>\n",
       "    <tr>\n",
       "      <th>1</th>\n",
       "      <td>1792</td>\n",
       "      <td>1</td>\n",
       "    </tr>\n",
       "    <tr>\n",
       "      <th>2</th>\n",
       "      <td>1954</td>\n",
       "      <td>1</td>\n",
       "    </tr>\n",
       "    <tr>\n",
       "      <th>3</th>\n",
       "      <td>1653</td>\n",
       "      <td>0</td>\n",
       "    </tr>\n",
       "    <tr>\n",
       "      <th>4</th>\n",
       "      <td>1593</td>\n",
       "      <td>0</td>\n",
       "    </tr>\n",
       "    <tr>\n",
       "      <th>...</th>\n",
       "      <td>...</td>\n",
       "      <td>...</td>\n",
       "    </tr>\n",
       "    <tr>\n",
       "      <th>163</th>\n",
       "      <td>1722</td>\n",
       "      <td>1</td>\n",
       "    </tr>\n",
       "    <tr>\n",
       "      <th>164</th>\n",
       "      <td>1750</td>\n",
       "      <td>1</td>\n",
       "    </tr>\n",
       "    <tr>\n",
       "      <th>165</th>\n",
       "      <td>1555</td>\n",
       "      <td>0</td>\n",
       "    </tr>\n",
       "    <tr>\n",
       "      <th>166</th>\n",
       "      <td>1524</td>\n",
       "      <td>0</td>\n",
       "    </tr>\n",
       "    <tr>\n",
       "      <th>167</th>\n",
       "      <td>1461</td>\n",
       "      <td>0</td>\n",
       "    </tr>\n",
       "  </tbody>\n",
       "</table>\n",
       "<p>168 rows × 2 columns</p>\n",
       "</div>"
      ],
      "text/plain": [
       "      SAT  Admitted\n",
       "0    1363         0\n",
       "1    1792         1\n",
       "2    1954         1\n",
       "3    1653         0\n",
       "4    1593         0\n",
       "..    ...       ...\n",
       "163  1722         1\n",
       "164  1750         1\n",
       "165  1555         0\n",
       "166  1524         0\n",
       "167  1461         0\n",
       "\n",
       "[168 rows x 2 columns]"
      ]
     },
     "execution_count": 18,
     "metadata": {},
     "output_type": "execute_result"
    }
   ],
   "source": [
    "data= raw_data.copy()\n",
    "data['Admitted']= data['Admitted'].map({'Yes':1,'No':0})\n",
    "data"
   ]
  },
  {
   "cell_type": "markdown",
   "id": "e5d5cea6",
   "metadata": {},
   "source": [
    "## Variables"
   ]
  },
  {
   "cell_type": "code",
   "execution_count": 19,
   "id": "d6303682",
   "metadata": {},
   "outputs": [],
   "source": [
    "y= data['Admitted']\n",
    "x1= data['SAT']"
   ]
  },
  {
   "cell_type": "markdown",
   "id": "a9eaacf8",
   "metadata": {},
   "source": [
    "## Gráficas"
   ]
  },
  {
   "cell_type": "markdown",
   "id": "d1e005c6",
   "metadata": {},
   "source": [
    "### Scatter plot"
   ]
  },
  {
   "cell_type": "code",
   "execution_count": 20,
   "id": "a32c3a51",
   "metadata": {},
   "outputs": [
    {
     "data": {
      "image/png": "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�.�	N�*^j�k/�-h�E�D|t�ˇ�x���������/ӳ0N�bTà��\�@%��D��#�=g�sytvzә�<E�cY6�\�`��_h�*Z�Az2��IQ�Ƶ�4YZ$}�Ї-�x6���F�N�pTEs!.KAh�*Ƒ�(7  ��rBk��j�#��E
�Rn�11���-�WN��l�P P�a8U��
���l�{�@x�Z�˕��P�O6�חj��$�%��!�� ��*� 8�f%��v�q�qVˢk�0�x��(�][�k��e�E��#}�Iv�c�"
����=z]}������ d֞#X���'S�+?޽���\�v<�R>���=HiQ���K}������o+>%�芏�&����i��j�+����AϬA����y��YmE��;�� {�.�rU@C�Gf����ޚ[	���L�&J$��V�]\�*8y�a_�v�g'��h�m���T�y�C�����OhP�O*M��dvo�A�::�~&���5�Û�cو�iǘM���-�w�G��Sy�&ժ���	���Ox�.�b�4WS�T��+~��R6��H��q������dV��!bI�'=Z�c/��r�X�K�_{_؄DB�"�g0ps�?�_*8���a4�6���+;�8�D$�����n;_��;���	`Z�7�|W���?��W�·킘L��Cسx��?�E;��^1��=��!,�ց�� 7X���iˮҖ�N���s9'&*���0�r)�\�DZ:��J�di��/;gN\�4��}�Od�ȪF��,b�cŨJ��n;]LzA1�O���,8^z��g�S�QO'���#ir��Y�Ą��9��P�:Cu3����˻�;�DԌc���]�?��|�$hϷ��{���h[�A�l��r\��^e����-]Y�������R~������-aH��l�gz���nJ7�Re�,Mv��+0���FD!�0���X��j��ĕf}�Pʠ6������1zy�4�R�Oy�&^>��Q:�]L nܺ�M������О� ��cN�5vC�Ɖ��K&r��S��5�qb�3?nvJ>߭�K9�T0�C3[�G�nKL�)u�er#�*O����G+$SO݅��N��A�{�<v&Bz*0C$�r���q9>�[,���V��f�G�.��(2�`��K�da�<2�,�N�S��W�G�d5H��ک	��(b�0%W�b���8a��&��sȻm�!8�o
��`�q\��k��T��z� D�|��2v� ��{��S#d�e�����R8<������� `��"���9v�"�څ��F.�B^m�bl���grg�&��X/9ŕ����~,?-C���v����)���w���ۛI�����: {
��,�T��78N�~i:Fq�4U?�դ^#���%)��
�%�G9`��c�[�>j��:!\�2�I~õ9�GO���3�-�d�b��o�FS,1�c'V�A�b
�<A;��� �ܧ�#Ў���r�����z���=B� �������j[��h�oA(�=2w��W��YD��!��5�뭸����e��9g[�$._�\m���0]'��e��YiݧJz��r#x��a''���u,�:���k��^1�4����>Y��}��U�k��:D*���=���ݑ����9��4�?�:��V�����1&䷡��?N���m�֙��g�<��]O�,���t�#p�GbO��j�Vi��nfc7L�9g:��E̟"zɒ�a��J|h�b��n��'G9zym�*�5��M[X����xN���pW��q�Ń����|�R
i����ۓ�[�T�g���`E��j��c�y~��5רv���K� R���*7��wa����/v�������jJ�ZΛ�p��00Q��`��Қu�]w�4R ����xF��JJ���3\�tK�8���[4�4��'����ؿo@��'�f�+�^�.["8�L-�U4�k�4�ᘫ���۰ׇ�ōm��_\�F*4P�ޥ��i!G ��n��"�h	�xmqS^Ү�Q8w>tO�R�r��)LC�"A�SnõK���	"m: �N4���:�|�0:y;ZVJ�p��*�4q-.��	0T( �@��FT�|�1���(�Yh��T�FW�0r�0�=�,�rt�H�$$�smZ�
�����	�:�~���l}��	��d��Y+��)P��,�3�Of��Q��J���j`�Wh�,g����w
I� �!~���(X~�ß����s��#:���$}�~å���|�^Cn�kS���?ml%z�*��P|]����A�GUG%����'�;����l��S��삷c��,񨌌�Ezj��q 2>��&��<6}�(�?IT"g�\C!�ȻDǸ��I/Ƴ�S5�1U7&$��V� �6��1>�
(�Rb��[�	���g�9�M�(����1mj�PM'��'c�5d�d*:�H/
���(0����z�Өa��D���3ɿ�E���k�z��������$O�F�{�s_ h�76f��F.��!��<��-��ݟ˚��o_��Vn�/6�^-��2S<�[�zv� g�t?m�*�r3po��^'9���C�2���|H�,�H2�<�>��7~U��u��I�7oQ�4�U���9˓W-����ǅ��L޿~��.�h2��  �����)+X��ޮr���h�����@�M��B6�&ԗF�1�N{�	O���]D�Sp?%dc]�?p��J��j}֦�}��J-P�w�h1��-a1VBciQi�B�7��WF,f��a�@� G���SŤ@����N��A�!d���赬oq��n���M|ױ<���Qw��=��q���)6�I�Q��tG��-~����OW���ț��jC�|�ز�^��U7G�V�Go��[+�\]�3L9Er��{Zƴ�Sr��^o���oJ��R����{u�%��1�������g�		�4�tR�AI#z��&�:���ןZ¡������
��~F�
0����V�.h��B��/�S?�/[@cG���UB�v>V�$6.�:�yJ�$d�DWR�'���' =*F8���`�M'���x�o�,s\":T	 �r��o�.7)�� y���I��R\�r	�ꃶ.�J��o�\|d�i(O��W�)��G�4�8�!c$�(�ű���(7ϵ
K���m!�5��3��{�<�d
��7�M�}Ƌv�3�c��8�w'�N�1m���?|Ѩz&�ly)����l.������@����>K�4я���z[�NyQ�D���O_'y�<��n?ě����bBPG����#�%���h�0��Y��߀�M��a���ЊHX��r$	��G��8!�H�rVA�2N.���d����9��]�7u�YC*bר2�cQ�-L��B/-�\ �zb���qm�����r�ں��IU�6h2i��$yG�dd�p$(�2#��� �Ю�$���sùz���S��Z���N�l��˪����Qt�'�_�,"?`�='X��N.��R`����3�����B��c��B^n�tgP�h���C[%�^�b؅i��U;�*�cuL��F-t���6����.bK��]%�����<Z��J��1�[�A�y$���w��G�ʾ���
��J����S��|u�����!!����� 9���c�֕��k���t4�!����A�I�Mm>8��e�VN��a<E;Wz�njŒ]բHx���=��?F�*��F�� A$y1YtZD�`�b��gJq��g�B�!`/���g]FˁYڙ�Î@��}�8N8u���ҕ�I�"��i���:yƵe��!�QQ��Ȩ\ ׶�8B�`��!|��DY����_x�������j%~����B��(e��j�i���d7P�zg�}#8҈,'���FI��9���>)��'���H#�V��!��ݧ��>!�@J�5�(6�L�9n\�z�*�j���������ٟ��
��HV�n9<OK����W�e(t���T�b"�$:bXS���Ud�2_}�"�&��)lj\�x}�N[��.S�ɿ�L:(#^l����q���4�t�;C-V"M=GV��y���F:_���u��O�z
�~����Rg��j�qg�+4S�1� �Z��i�p�E*�
;G����&�.�C �!p��27�f�z�T����I�)�_�F���H�Hg��Q��[��;�Ie�q��e�X���~*}��4����)Pg�������^��<<���m�%�܈��k<�YQ*�KR���?Xw���vRް��ǆw1T���v����#���R�򻳧|<ůU��ʞ QPбNF0�]��m6=�*�Zsj|�9x.���D����۸F�.�FhR-��M�X]�$m��!.� 2RYŚ'�N`r��`�v��b����eK�^P0��$|W�$d�E *6Z� '���=%Р��%���O��;�����z���R���ڪ���ro��`�pP�q��-.����(չK�ð�ؐ�Em�R"Ji�i{Z�P���W2��~��hXjͤfDA��_
r�L�.$$���s	�(���Y��z�����'b�� ���X=.��~n�ӀƁ{��ܐ�^���D��k�e.��_��!���)t:����A9���N֪������kK������k�8)�mL؜_�f_��y;%8ov�d;��v��Kn꤈j��+F�t��3P*��AiyI\P7�I� ��p><q[��5�D�ZYͣ�:)Z��q�������k�kq!s=�Ï�ȁ]�O�e���Gtֱt��g�NT��'�w[��GC�X�{��[c��nQ��،1
F���v?�j^�O����_��	�_�Rs��sM!�^i�5|wNm��89��3WU��p�խ;R�k�*���L"�L�����,��j>�$�n�;Q�{2�x;G�C�-'�U�M`���_��ԑ�����b��N~�+:6U����^�.Y\��S��7�f=�-lXi5���-M�Gh�G�N�;�jijN�c[�sRz1��u�֡�0 [ϲ��p���X�w�NB6<gN8�R���,��a9��	�dP&�o�-���.�MG�q�Bza�@�8��0��i�`�;
�/i:�6ӊ������:O��s�x��&��P��u0�G�K��)�1�d��a��L���SJ�Q��?�=��r��3W�"�#!#�֡�G<hғ쯗��wOU����W�ry�ܔ��2K�Bcm�&���40;}�O� �����*hVT0��̌6�0���;�{��6�x����	$�k���ϊ0BߪL<0Іt��?k�i�*"�P6l���������M�od�Jxf*�j�R]�"��N/D�*�d[��+�	VA���o�m����-D�bd��Ui�|2�b!3 �+Y���
TQ���l���v܋x�����M�ٛ �e����܁�ų9/�1�/�F6z�P\��m ��L:��[��_������ڨq/��R,K�* 7�Q/��Q&��h݊8*��%,��+z �@�D|8���e�a���~0�/�3G��䏲ew`��}��@�SMc�Y�j~���=˖Yů�՘�Z��Ύc<�7�	:��1N��V���h0s�����dX(���wঔ��G�O��Rk�9F�ǐY��T$�k>�TW"��Z�e�D[]u"�7dp��,��L<���>��un�9ߌ&l!��&9{s#|�:�/��j;:ґ	�+�F6]���:zZ��5缕֝X��T�30Tlt����Ռ�j�d��Q���y��.̽l�V:��
��J���~P�-f�|ݥcaҾ&*����<@6�������hg�W���C��El\��"�k���xZT�=-�szBo��e[ެ�KOt��W>���0E���m䂄F0���0篯��S�
7�PVf�I �#7�_Vf+�h�Gr�`�2p�ͅ��ل����ۿ���Fk�E?5����.}-a(��d�4�D�rv\fA0ܢ�1PgBL�@�%�D�lICd�u�so��OE���7  zE��{�d8���A�}� hGtNOB2�Cƚ7�bp5!��}$��!4��e�|�
>���0<�|J��L�swj�&D%�%� �"�l�n�#�rb'����-�� h�>0��5s�&�v�X*�zӆW��J�:`�M���M�ph��q��l��w�bc�a��#w�f��ڶ]!Q�<�j.��ۅ8q�������>z��)���Du�g,�����%&�Fch�A(��� BP q�,��R%:������o2)9i����5���\���i��Ѿ�+�^�����d{X��a"�D��='y��NmHd�2m0H	���⮿HP°=�) �Rf/~��r�{}�B��?�&s�]L��;�&hV���B�2�F�+Ď��4Hv�g	C��!En�>aN'5[�+a\���C�ԏ�8���4��J��4�~�K���T� �ЫΔ���Nt�8�B�l g�<7[��I��	 k���[�������:}��DE7'�5���(k��;H�8m2�td�#�rVe4�e.-�U�<����(O��_�[���� g��K���:B,�@�=y<篿6��XU������^3����k��t���^�����0���ٝ+\��.ş&��w�:��Y^�
-���@4�ph�R�wL=��^�TT��-1%ib�f��\�Cr���\��:%i�H��$G��t0blTs-�u�3��xQv��#�� "&���*v��r���;��Q
dx?�����ѝb�t��+���3XÖ\���qX��B��R��o:�,8�ϞUS��1d����5]�������Y^�P��ѕ��_I�z�r���%�S[�7n&E0�� ��^@K��Q&�Չ@.������0�%����ܣ���9i�a�.�O't�/:�Np�5;�\�k��ӎ��յ��������0x�7 E�ܕ�&�b3P� ���r0�"Q7m،�aTPG�}�p��	a}�aR�TTN1л
f����9.MZΣ��E<�וn�#�.mO.8*0Q$�,Х/�>+��G-��(�=��Y�K�(����]��B�{o�i���V��n�R�q�j�(�����!	�%Ӊ)��
�ea��8ѪD��Qt�)�Y���T�AV��b�x�/��y�Ay�	��6U�x����W[]�8�.����$}�䟿���$j��#[���'O�8孮��
�t6�LIߏ�qkH@R�Z��T�˒���S3(f����#�&���A�#Ҽ}�"�ⴇRɈO�����(&jC��=0٣X��qJ��crg3g� Cc�Ǥx����4���\-�+V9a#��~�qF�>d��B� q�Hx��t�p���G�w�e�����>j�C(@��>XH��A�u_̌�(5���6���f��n��/d�=�b�ŨC�~΅�������DG��h�[h
k#[^��-$��,w^�(Ʋ6�����Ϡ�\d��?@}�.�Xl���NHy�_�x��1)�MV`�+�aIV�6�I=㣄U����H-�v�M� ����C��w��,�[,�)�=|����D*���޹�Rޛ�f���2��p%�� ���"�ѪҚr<���N�����A���Vk�0���;��k(�_�V~-��K�>H�� "$a�x��|׌kG̷�T��|�i�*;pЛI.v5|@Ez?�a�!��K<ar��9��[;���zo��[�����>��o�wY6����̬�J�E�h���3jÞG�� �_t����B���O]�c�Pӛ`o��N]����y[Y���ի��qT� ���{��'5�C�3��Y0+�ms�WeO(��.+���-	a��g(�ʭ!2�C�&���@*� �� ��ߌ���6T��.$�
r�0M�c�5"�9�I<�ڱ�������ػ�!��3g�K#/R�݈�_�wZ��M��)�6j� .8GDΐ�7Q�O\�g�$�9�-LJd�|�Q*��.^�O:%+AZ�Ӷ>�$���L�l�l;Ea4?t^z�Jן9�#4-?$��ki��`�5��@+�X3�	*���*>�t~��B<{o�W1���S��Q�Q�
/�u{�*���3�*�	�<"��K�}��-"��(����j$�a�u��4�X�xi��K�$�t��)�Fv�[ߣ#d�Q��aاR?u�;�95~����2N8ǂ�����İ���D��ڃ�=S�xr�Ki��	wj<�_��w/�����l
>u�����f���t�?��N�j�۠�E#�I�����X!G��:8��:��?R�T�CaDP�*	u7�ؚ[�９2�|*�6�-B(!	��P�xh�D`ϔ y2�
�OačY�JyG���s�n�\�����.RS�&CO#��2��d@�|+/�tp��*D�ئ�!���J��'�$¸ �t��{����������fM�.�f�5P8\�E{��R<��[��
ڧ)Tء����cD��?kG�'y\�dg���T%�\�~S�T^2�o9J�3�E"wp�<�b���h}�w��iR��d"�W����U��|���g"��&~)�ԛťy5�����@ׇ/̯d��
���kw�����=�����>QԆ�(д֊��@�Sc�,T��_��u7�K2�Ni3��{�&��ZGm�s?Ŕ6�p|�юj��N�Iœ;)��w(yUk4�3�+��X @���s�*&H���0@K��R��ý���t�.4I4]����
�v�f�d���g��h��+�Ze̪��W;���};�D���Qv��K}����iW���ͧ��EG�Kކ��}�� "ҼL�qr���+0"�|k%Qv����_`_�i��B,��w�}��kr�*��������7�C?�=,b�? �+\�0%?�D9!	�>�<`�٣�q��������Θ��1e�1=#�֢�+�F+
P��{���R�ilR4���>M�g%=�N�M�[�/~X�` !Eg3��
w���/5mH�z�\���G�l�*CO; 6}q�Jݸ2�$06��|0h���j��d]�I(����_�Qb��3�E~�5e>��?���m�j�$�81��վ��/*�b�65u�f��V��
��7��_�';�W��8�n�gyͼ�a�c���&'�{��V�p��r�#u
D��	"��D�ee$�ؖ����'I��U���9g�&(扨��<�r{O�lf�Ə3].{���+A������hF8, r�����d���J�:��*�j������I�%�i�='q��d1 $��;��=<�V�CVKB+�4^�ȅ٨����:�2�+o{5��q�jD�%G��]y�1�@Y��>�a���O��{�t����%mx�FF}��#C�
alH6Z�&S(ϴ�</����9���:��Zȣ�%��	���T �?��Ǣ�����;G��f�{D�a��!}��7c���q�����ٽ�@r��%>�<tG�Mh���%k �_�9��t}D��4T|�>�"qeJ�-�R<?<��E	�"��*=4�6��0����aI��n���9{#�H�0�ϟ ��aV�غ՝�|=���h��n�W;��~*�����%)-ܨ�Ĳud���.Ꭳ����� p�3�����^�\�t��^�&K��s.i�e67��\ǩg=׈�K��I;P�4��f{5��Qg!Y\'Y7�P�(��n}P���I�#x���gnL��E��ӂ�"��|�e' ]��������}��N���^g˽n�:�H������5b1�/A�J��W��_x����@Y�������RJ�S�����&6��|�s�کTJ_�I,�nAk��fz���0x��I6���m&�u���������߈��k
�=W�a� �2M�	F�|�=1�@�*�ۑ�[��������ů��UA�l8X1-�̂��q	�����1"�/]SU=���N�}u�F�&�?�llNv�d[�sF-��A�媉
X'gم��$���r�{�
O#:;KaK|�(�����gZ��<�T���#� ���4�P`��,�{�gk=�l�M� ��:�M��tEC�.���6��:�3'0��!o���-!����K��Yp�<�q9���m�]��t��"���jb�Q��I-�c��G�w#_��g���u2��Α�f��+���A�.����%�Cz|�l~���)>qc���{�9��f�6PLg��������j�<��C�i��کX��x��ȇ;lX%��e,!�I��	e�Q�>aw/p�<E#I���n��ޚG��T��
3@?��T�E�E��B	�[�BhݞI�,F|�I��V�����3`Aey��GZ�;[�L9
�'Rĝ�Y	ң��Í�uʦ_��'��
�i���G���ͮΖ���e}�&�W�*sM�z��y/��X��=�k��˩�ȵ�|��FIa�"%�k��L5^z�(�U�\th�AtL�<�qn��x6���H�!�ޗ*m$��h!�*����=T��n���=�;�F.���7��T������J#��6Ҋ^���Bf��_2��"���&+'���ܯ2@lڈ�*�����Z��L�K���	��@�O�|~��d�#T��x?=a�/��}��2�����P�y��H��,a]\O,?�!�/��h BQV���d�WoO���qKr��S�����: �a�QV����Ʉ�!�QڥR���rT��@���XY��#��I���3�#:�`ӈkF��_?����VM��߲��4�`�n���|��ľw�l��W+�xvs ��#	�М%��m�׭}�z�x���)�$��0�������M�G!�;!�\[�E?�`c�(�?��론Q��������ٲz�RlCO< ,U���^;�c2$��_��]�78�pwVGҴ�4]�6Cu�l�r�#�<[h�hj�b`X�;j�Ԣ�07`Yц�|����Z�o�,OFv$.bQI�`ܙ�,b5 ��b-E��h�h��~6�4�$���*S�~��!�}o�4xW���/˞;�u�C�2="�0��S�#�	(�k	��`d�o�
 0z��*��A��n]"�S��*�4�Xh͟H�S��x�%+�x��.q�U��k�x'K��`+3��ӄ3~,������`��(���;�f#Ƽ���n*�^EQ�i���scC e�:��M(R�����q; J��Ϡ8�#���|�1��y��ǰ�x�*�����=<J#��i4�D"�)p�S�Av`&X�l*,럧ǒ��*��Y� �T {v�!��7� �8v�9e��_�Z]���k�6�N�����9Ru�A9#_��vs�	qj *;�s8���/5ߒ�(���i˛Bͭ�٦"����SF�2�ε㮦�?\��t�dK�QH��V��&����j��ڳ�Թ�E_��Ei�t^�_>��Cx9�X�?��\R1΄d~s�I�y=cc�F!<���@�p���|<4��YH��ך�jf!��8��4�<D�J�0@2���$ۜ@����]դ��F��j�]9��Bą<���&ܶ�ĺ_���Q��Պ�G�-݌}n�&]�����	)�^+�j�4/��y� G��:D�q��?��EO���_��IeR�i��7>��Z ezIsf+�}�<�md&pi��WU�#L���:h��m�������icE�����ڜ_�y�j���Xlؼv���]A��4ɮA?W�+5�yo�Z߻t0�Gu@���dU������kC����@��U}�OMW.�ҿK(�[}�?Hh62���hգ�g�F
���`=��U����'�1Ƣ��˚��)D�^E�*&�#*�2�1DX�!�?�W�!0�ڌ�|�������ܽ���AF�1+\+2�Ӵ�7�/�ģ&�W�?,Vf#ر�/y� \@�-�F�5�&wT�f�ey!I�@�¦�!-SLϕ�9�o=���N�,�j<F/-/OD�L��?'W��G&^ӭ-�A��A7�{4�-0����B�m�^SP�:W#�m��V�xE�w�!x�3U��Ō ��8&�A%��k�>��>'��&��@��W��x0���6�N��T�!�I��Q<�B��V�t�m�F:]� �?4����zc�������2F��R#!��4R�$ן���~Y�{Cu�
m�ێhi,"k�5��T0�㲰ςaR?OMu��ʘ�.���_�7ߒB�)�ē�E~��}���b�B��bz!=�"ُr��|pz#�&u5>ߖ�n����6��U�Jo�ZJ.Z1��]�Jb� %C��?
��d��@����7�4�S�W~�`*E��2}�V�S4.�r��B,Y>����}�o�U��D��-��'�r���v�,����腬�E\�,�9�!Q�7*y��n�Vc����A��ի�ڼ�]��}g�i�A���@(�"�[ލC0ܭuEf�K�ied�*�=*2��tP����r28�|�Y?�,����)7Y� ���D+B�2�+X���v��B�̿��e�,�F���Lj��p)�����+9hߕ+Aڋ�U�����i� ��Y~�%Q�����[k�:}�ty2��~p��e/|x[�B"��\��y֐�p��8A�m��gt��.
j=bpg�a�i��L*`v��{�I�$&���Ni��,����W���jq����>�^űJ���B��C��c�j��?��t#�˹oc�yl�W��C\��6<����R 
���ҏ��(\�~������H}?��[�sz�܈])�'/�u%@	��4�`�[>��o���c'��@����g4���q������:<�?T�9D�f�5�\z2�I|�g!�)�i�=3mxζ��ή��ޜ�ȏ+��7`�=*�ֻ�?�V�� ���K%�%HsN>��=�>{/�U�q��7[g�+F�Du^�.H����)tCMPS�Ч8�D���r�[�|_?E+RN{�~�#�-sb(��U6��*�y��y�g+�	���W\�jE��`�jpg�K6���Lw�`�f�\�-���B�+�94z��#R�%�+�	Z܌|��A��st�/+�O1��	�5�Jr��b� �K���h{�.��Y�@��K֮v}����Ǚ6X
������j�WX���7u�����l[�y i�AB���9H?�D�J} �����VqT]'��̯����I�/��.��ţ�[~��|�����]Q��q5�"��2��!z@NG�Dc@V���hĭ4�C2��8�(�Sme!��A�}c�4!Q��+�%'�gB��m�og���s�������ud�$4c��'b5�(#�`1;�=bY���*���?���u��B��YԜy�C���PR�Ŭ�ə�̘�@Y�/�i�"_d� U��5��%bѦ3��qg�͔�ڳ�pG�Tl� ;�F2�Xt&�"�Hӑsm߂9V�#�Y7��@;ի�S
����o�7�x+�Z٠��6@��j���w��'v�ʁ��bT�����n��:˰~���s��y'��#�Ԣ{<kЖ�ӈ2=���B����J�:� n�%���C�[r�dIO��d�uJ��CGN%4SY�c��8��E͎�i��I~�O�\*��jnOJVv�7���q4My���u�OP���;2Z����֘�Ԥ�,sxd����͎�k�F��s��%l��F���G_��"�����'a6�"f�W��{Q��>#�ɚ�(L������>�/u�@�����5
��A�wr肆Y=R�mI�s!;��8���(z^��wi�݉~\��G����c4�;�� �����&�$<=�+�=2�;y�[��K�E|t�ΐ����������+��ic�2<T.�⁁?�$N��e��.�k�/ybK̎�4>�Mv�|�`�D�*^p�q�Ru+�W�Ȧ�%]Td_ꖧ�@ݓ{�S�sGvl5M<�[׋6�
v5��g5|��<�m��b<�j�M閌!
�=��V�DG�!F��N�)��uxK�0%E5<]���.��>�+1��$�d�s�W��<יn��l�X�U"�9�p�MQ��H�5�@��`�XD�O�� /�]��j��sU
�,�kb�ݻ�L3y1�������0�<���t�E-�ݢ�o�BM�e���lYLC
�Z��N]����4w.|��нv����}�4��@�����j#�X����� y)��r$!��F��uZZ�T�>\u;~�=dI3�γTƆ��'��\�,�-8q��\�{J�q6��&9�C}�|d��|�&fr���`�3�V�����&FE�6R���s�&P�@p_��]K����c���S��x�����?�a��2E� Ѯ���ۋ�\q�]�5�4\}�Y~��M/��7W��C��3���㷋��%C��'fd�v]�J1��� i�Z�C��J}N��W@D�2�K	ew6�L#�ٌF"�v���G=4��l3�"����tl+��V��*�K"&��`�ߚơ@���ҕ�-���^�"�E'��8��<���*>m㦕�4x���j򱮙�s�A��3�S����]2�8�\:K��a�fj��cgSO�a��e��nXǡ�y��+'i�vĂav^((D@/Y:�U�`��U"t
���s�	FL���c|Q��d�����@��T�H j�����S�*�o��F���{�U��;�cv��-�q�Ɓ\=�?�a��UI��W:����sF������@�K+�K�é�O��^د^�/�̲l7/�Vv�,��(��zU��cf��k0��r����$�6��������)+�4o��2<�7Q�Z;G�z"�8�_�74��E�������Ƞ�+�e{�l>%����5�i	W(��B���g�p*Wla���I�	x`�s�X�G�4Yt�"a�AVU?͝3I�Ë�
	d\Ɋ�
�z>���[�_�kE&cc:rLm�I�#�.(��X���XǍF(�Tw� H���V�xY��,�h[l�&U]�<�.�Q��)�w�+
�p` �0���W�!�:��h��*�[��7��I̼n>�#�j%��}�J�no��R�r��|�`"�a��n�b��O��d h�`�>���.&}*�������
9��Z���B�e8ˍ���c;�^`5�K^���,Ct9�9��]E����v3hȌۜ����v���^� ����M"�w���кc<��Epٕ@��64b�4�gv a�:ZhX>���@���>9��$��,($��p�kS�uBZ���>$�|s��m�7��6�6-Q�"�3F�/<��vXD2|�{!�?xޓ�73>����/�ڬv��gܻ�2�	�C����������{I�Z�u�.[ V�&)u��M#��+G��:�`�ꯐ���KU��6X�	'�Qm���X~��kٸ^c-�kCB�3�^I|� �hL���g �
���K+�x�FV�����p8W�D���A!>�8�:T(���d�����ܦ�p?�!��_���u/��%}�����tt�����4A���Q��ϴ�F���iA�.���
��e�p2�s	��V�{l��^ F`dUc�44��6��Nhю�OǇGvC�/֦kWr��. E`YCb$�Z���]#ij����>N���2q��X��g��5��R�d4���K�s��u���!mۚ4��b�cT��!��~Y�׉,tF�<~�P�"e��68����'&M0��צ�0�$<�����B��g��D�\�ܢ*:R�ps�Vt��-)�ʏdz��D1��26��z�!�ОH&�)�h��ף�( �	T�F)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\n",
      "text/plain": [
       "<Figure size 432x288 with 1 Axes>"
      ]
     },
     "metadata": {},
     "output_type": "display_data"
    }
   ],
   "source": [
    "x= sm.add_constant(x1)\n",
    "reg_lin= sm.OLS(y,x)\n",
    "results_lin= reg_lin.fit()\n",
    "\n",
    "plt.scatter(x1,y,color='blue')\n",
    "y_est= x1*results_lin.params[1]+results_lin.params[0]\n",
    "\n",
    "plt.plot(x1,y_est,lw=2.5, color='red')\n",
    "plt.xlabel('SAT', fontsize=20)\n",
    "plt.ylabel('Admitted', fontsize=20)\n",
    "plt.show()"
   ]
  },
  {
   "cell_type": "markdown",
   "id": "f8b6bde8",
   "metadata": {},
   "source": [
    "### Regresion con modelo lógico (logit)"
   ]
  },
  {
   "cell_type": "code",
   "execution_count": 23,
   "id": "23793c8c",
   "metadata": {},
   "outputs": [
    {
     "name": "stdout",
     "output_type": "stream",
     "text": [
      "Optimization terminated successfully.\n",
      "         Current function value: 0.137766\n",
      "         Iterations 10\n"
     ]
    }
   ],
   "source": [
    "x= sm.add_constant(x1)\n",
    "reg_log= sm.Logit(y,x)\n",
    "results_log= reg_log.fit()"
   ]
  },
  {
   "cell_type": "code",
   "execution_count": 34,
   "id": "730a0647",
   "metadata": {},
   "outputs": [
    {
     "data": {
      "text/html": [
       "<table class=\"simpletable\">\n",
       "<caption>Logit Regression Results</caption>\n",
       "<tr>\n",
       "  <th>Dep. Variable:</th>       <td>Admitted</td>     <th>  No. Observations:  </th>  <td>   168</td>  \n",
       "</tr>\n",
       "<tr>\n",
       "  <th>Model:</th>                 <td>Logit</td>      <th>  Df Residuals:      </th>  <td>   166</td>  \n",
       "</tr>\n",
       "<tr>\n",
       "  <th>Method:</th>                 <td>MLE</td>       <th>  Df Model:          </th>  <td>     1</td>  \n",
       "</tr>\n",
       "<tr>\n",
       "  <th>Date:</th>            <td>Sun, 04 Jul 2021</td> <th>  Pseudo R-squ.:     </th>  <td>0.7992</td>  \n",
       "</tr>\n",
       "<tr>\n",
       "  <th>Time:</th>                <td>19:05:05</td>     <th>  Log-Likelihood:    </th> <td> -23.145</td> \n",
       "</tr>\n",
       "<tr>\n",
       "  <th>converged:</th>             <td>True</td>       <th>  LL-Null:           </th> <td> -115.26</td> \n",
       "</tr>\n",
       "<tr>\n",
       "  <th>Covariance Type:</th>     <td>nonrobust</td>    <th>  LLR p-value:       </th> <td>5.805e-42</td>\n",
       "</tr>\n",
       "</table>\n",
       "<table class=\"simpletable\">\n",
       "<tr>\n",
       "    <td></td>       <th>coef</th>     <th>std err</th>      <th>z</th>      <th>P>|z|</th>  <th>[0.025</th>    <th>0.975]</th>  \n",
       "</tr>\n",
       "<tr>\n",
       "  <th>const</th> <td>  -69.9128</td> <td>   15.737</td> <td>   -4.443</td> <td> 0.000</td> <td> -100.756</td> <td>  -39.070</td>\n",
       "</tr>\n",
       "<tr>\n",
       "  <th>SAT</th>   <td>    0.0420</td> <td>    0.009</td> <td>    4.454</td> <td> 0.000</td> <td>    0.024</td> <td>    0.060</td>\n",
       "</tr>\n",
       "</table><br/><br/>Possibly complete quasi-separation: A fraction 0.27 of observations can be<br/>perfectly predicted. This might indicate that there is complete<br/>quasi-separation. In this case some parameters will not be identified."
      ],
      "text/plain": [
       "<class 'statsmodels.iolib.summary.Summary'>\n",
       "\"\"\"\n",
       "                           Logit Regression Results                           \n",
       "==============================================================================\n",
       "Dep. Variable:               Admitted   No. Observations:                  168\n",
       "Model:                          Logit   Df Residuals:                      166\n",
       "Method:                           MLE   Df Model:                            1\n",
       "Date:                Sun, 04 Jul 2021   Pseudo R-squ.:                  0.7992\n",
       "Time:                        19:05:05   Log-Likelihood:                -23.145\n",
       "converged:                       True   LL-Null:                       -115.26\n",
       "Covariance Type:            nonrobust   LLR p-value:                 5.805e-42\n",
       "==============================================================================\n",
       "                 coef    std err          z      P>|z|      [0.025      0.975]\n",
       "------------------------------------------------------------------------------\n",
       "const        -69.9128     15.737     -4.443      0.000    -100.756     -39.070\n",
       "SAT            0.0420      0.009      4.454      0.000       0.024       0.060\n",
       "==============================================================================\n",
       "\n",
       "Possibly complete quasi-separation: A fraction 0.27 of observations can be\n",
       "perfectly predicted. This might indicate that there is complete\n",
       "quasi-separation. In this case some parameters will not be identified.\n",
       "\"\"\""
      ]
     },
     "execution_count": 34,
     "metadata": {},
     "output_type": "execute_result"
    }
   ],
   "source": [
    "results_log.summary()"
   ]
  },
  {
   "cell_type": "markdown",
   "id": "9c17e8ce",
   "metadata": {},
   "source": [
    "## Precisión del modelo"
   ]
  },
  {
   "cell_type": "markdown",
   "id": "03477c61",
   "metadata": {},
   "source": [
    "El siguiente código nos dice como calacular la presicion del modelo, es decir que tan parecidos son los valores estimados con los reales"
   ]
  },
  {
   "cell_type": "code",
   "execution_count": 32,
   "id": "ee99fea2",
   "metadata": {},
   "outputs": [
    {
     "dat�$��58Z Q�ݣ[���J��jtf� ��"��!�?[;Gw���� �!�nH��C΅1;�	�sd������{���p��Sͣ�h���o�?���~i��c���xg��3h��/�.��0�@�2u�"w9]�Q�O�a��9�ǁ�E�GFP�d�(
U�S��xC肖?4�ؤ3���1o��	?�~0Ouo����b�DH�X�uٟ�͢'E`ӕ ����o���mS�����߇�F[��V+�\'��2���	v��P����IҬ �}l;A$��U.��fd>�c,~��K�ɒ�t��N�R߬^3����h \���hI�>K���qt �=� �ZV1AG#q�	_��U�?Au�ւ��:��Qk]����Zp�h��v)��y������:1'��1+��I��]��m�G�DVo(k#g���k/Z:�eAS�Y��7p���z�$�EE�rb^Q j�[��{�L+k��~bTb(g�>��d�����G����]W�โj���K	�-�|4�,��2T���5����Ko��7����x�/��9~�WEV�C��EPSr�a�YV^:7���{ِ��v�+Ѿ��Z�/q
�,�}��DI��ƛ�^����i"�1�=��Xi45sH���/��-��h�]�9���O���� #[7�6U�� �9��-Ь�!��bq�rg��1���u�E���աu���\3��s ��m���ڦ�`gY">D��{� L����*aD�V�ˈ3R Q��kT�Qb+��HV�J�u��	�+�=�E #S������D84*	�t��~Q����e��IcZ¾4�!���">�)1�����j6um`b����y���7�D�V~���~��������Ūh�A��P}` �{�~]�����9��6b2~į����5��2tS����q��Bq����՝Տ4j�a���}e'�9W!x�FP��K����&��K4J.G�����N��V��pt� ��"��!�ImYsa�����#�nJ��S·!9��qt�������y��� r��Q͡�i���m�?���|y�������'xg��1h��/�.��8�	A�"u�"u)_�q�_�c��3��U�IFN�u�&
k�]��fP�!(�Š2���?f��KAF�rOso������b�DH�V�kŏ�â9YpΛ����q���mL宻���IZ�K%�B2��<���x��A����Q{��b�q6,;A&��U���he!�s0p��[�Ȍ�z��@�	\��z#��̥[���\�~]�|��(:E�7��Fr#M;#�]�� �5YuI�ڨ��4��/��f�U�O@f����#f��2|��~"��!g;��$�(�M��.��@W@oB2[/YT+ԅD�?P\\v�5���h.ʙ�;�zb�L�PX6kVC@+���Wq� 8<��`t_(HEk�h��8�T�B��	����Q)����&Q���D\�8]R�4��<3�퉴5߃#�K$���;����-�{��nh�E���AX�o�
M.'�׬�e���B�x�ѾŖ�M]�0�,�0�ȑHI�R�ū
���C2�!�#g��+}fb���Yl��N��6�M�`�׭_C����ua[c�&��V���-���!�\�,bq�6bi�_�mɆ� ������?��/�R*�)t���(�Q�C���rmU1:D��w�G����r?�^���Z Q��, G� 6j��DB�`
�nľA�IoB�7�'/S��Wג���YT{1
�/��gH����!ΨEV=��z�5��Zp�%-������bMea`s����u���%�T�Jn���r��ゝ���پd�_��Mo~<�w�fP������M�*EN0ƣ����5��0tS����a��Pd����ٍʓ$s�{���pu9�(J-h�SM��P�����N�*��_)Z0]�U��)��BȋT��pt� s�3��1�I|Urc���� �#�oH��S΅1:��sd�������y��2��S
͡�i���m�?�>{	��sҎ����'xg��#h��/�"��!�P�>e��2j5B�a�C��$�֞�Q�JVN�u�$k�_��fP��� (�Ũ^���1~��CH�rOWo�����b�HH�T�jď���9YpΙ�����p���]D宺��×�KJ�K'�C2��>���znŜM����]��,�q6l;Q(��Y���ju �s0r��[�؍c�i��Q�	Nӽ@/����qP���dY�*G���mxm�/�&�JX#M+O!}�	_��D�?Sy�ڂ��%��]kC��	��Bm����f4��f��飁�& ;��-: ��U��M��p�+�Ypo9[/yTe���+/Z(�tMS�U�
�'m���c�9s�ZP�b}@Cf�E��rg�n>��m3:-`���u� �8��^Xܨ��Q+���p/F���Mt�b�2`�<��D����x��Yͤ>��`����a�/��d@&�9��IJC7�*�]0Fb̚��w���)�Ѿj��Z�	�>_�o�o��jbI���ٸA�ݱ�0:�`�pj��4qa6���<ۅ8އS�M�9�
��u����5cY�}��T�P��hҠ�!��C:4�H6 �Hc�nз�{�U�>�ձ{��V�R(��d'��$�[��غ�$6c{��w�Wv����f-�L����Hp Q��2~�Qb+�^�PP�l���9E�u�Sic���f8���@8 :5Q�"��o3R���e��NcZ��8�a����%-������j6uwl����w���X�~�Fn�➒1~��������վ%�
��H  O�D.K�hN����;��k*q������n��tS���4��!}\�����|#�]?Ë�8&|�|YH�_��\�1�����tR��8op Q�������*��7zM�e��v��m�Ad[0bo�)�̸�/�%n��Q��}g�N�/!�������>ٯ�\mr��_��z���w�7���`=�0�s��Ѡ-�f,&��3N5��/�.�\�t�J�(e��2{9Q�"�O�.��|����U��&�ˉWg�	0X�?�l��pjҖ�g���t:�H��&H w"]��ԁN`�DH��{ɂ��)Zߕ���H��5�G��g\���Q�����FԒZ)�<��0���ϜM����_J��/�0b-!y��U��R�3's�q:~��[����9��W�F��uS��Z��"��RR�-P�zF�J��}D�d�B�P#n !8�		���?S�և�X�$�A�]QS���|�X|���$v�� Ё����y n��Hn~�Z�	�G��Z�p��@=xK{Pcy $��E�9jMBZ}C�eP�[�0�'|ڠ!�$U�K\�i#>Cj���VX*�u)պp?nXt-�`��%�E��XP��\C���xӧ��<D���KFY�-� z���>4����"ߑZڠ)��t漞�$�/��oP>�G���@R?�*�\4vʊ��9�ԜO�&�S��[���	�[
�,�G���Dc��ܗ�O�̦�%L�x�t��J:wq'D�ń?��`��,��{�M˽E����)#q&�&E��L���5Ƶ�9��,bq�/,�GX�u���y����ղ4�BP�(����a�5q��ڵ�1# 5JŸw�
\���R�gv �U����Hp Q��iT�M&b��: �`�l��� h�a�\jl��H��S���H8 :7�t��gF����3ѱ\m��p�/eľ
�?TbJ��˖�3f0m;����y���%�TmFn����J7����������%��� 2�!{�j]�����f�G�*EN0ƣ����{<�tS����ck�PuL�����̖�$2�G/���/u}H( ]&�S1\��\�����&Ȁl]a�ZůD�B���>v� ��"��!�ImY?J���� �/�vF��_�1+��f������!ܦ�S";��N���,ͨ��-���py�
�sҎ����',"��>T$��a�.�F�i�,�0iÓ2{9S�c�O�o��{�ڥ�U�GV^�w�'IM>�LM��h\π�1$�Ԥ Զ�};�@�S�ofMf��ԏ��8J��:����UWN�ے�� ��a���}A���B����K`��+YR<��2���%F���ܢ�_��/�8p"Kc��N��}�dy�s v��Y�؜k�d��^�
��,m����q\���hY�~\U�B�3/tA�h��+]2Q.)�#��Y�?Cu�ւ��4��M/��X�C�
.����.j��k������(,��!:��Y��B�G��U/UZo9{-yVy��_�*kr:�eAS�Y��'|��� �1a�^�%blLCj�U��?�BF)��ZzMn9i�,��u� ��FW�Z@�ζ�M$����$���K�-�~4�< ��j]Z����)Њ\��}�Ѿ;��ͱa�/��+r�X�A��D�m�"UVO4'���uɀ��&�}����Z�	�q�,�m��V5�����O����k2�!�1�� gYv6���#��p��7�A�5���_����0/[:�b[�^�G��Q�����bq�bi��=ѽ�a�[�������/�R*��s0��a�~�^����|]U"/J��w�
@���X�jg4���3Z Q�!u[R�*n��L�J
�l���X�3�v9/S����7���H8nrH�{��&�����YmJҲ6�/���^p�%[G��ȍ��/r<.(-�����وw
��'\����P|�����ռr+���Ton0�{�J]�����,��&oN0ƣ����5��'zCͯ���a��PuǷ���̓�5f�k���}u)�([!h�_R�� \����&�H6X{�����hȋT��-x7� ��"��y�
8S-!{�L����/�gH��Sމ3f�N�%�������q���o>��
_�����$�5�ԯ(<F�N�`!������xg��n?h��R���#�F�q �2 S�a��;��z�����I2�4�z[T"�[��&���~C܄�g����s"�
�?�~0Own��ٚ�!�
��7�����).w���BP��%�T��}U�����ֿ��Lo�v��#���z8��A����	x�� �l2!Tofk�[�J�@�#}y�7e&��JKϹ�;�9�P�^ΧP$s��@��q[��cS�ds�*I�B��>;_�/��J%(#MfA}�Ru��U�|9^����\�.��?��3��$.���/j��4ޗ����*4:��!:�Q�C� �U��x�N�	Zo96P{8$���ktQp8�g��N�%f���o�(�a\�bn X+�O��.k�T8g��5"aEu(�`��u�*����^ޛ��G=����|���]	�-�|4�A"��>D��ޞ5�^��:��rǷ��.�a�1f�KqF�O��IU3�.�IWLOoz���u���L� �T��Cу��4R�o�9����M�T��O����)2�\���J*w`0��Dۅ8��{��f�Mͧ����?>M>�hG�N�я���b�N�Hq�C�A����S�U����B@� *�<t��K�q�IƟ��$>lP	��9�\���[�yH����3X��(�Sn��FLR�BN�8���Gf�-�\+`��Y��譖D :7�;��$������GJ���-���4�qZ/������!s'#%.M����y߿�%
��>SȻ���S;����຿�{�C��\m"q�L.D�/ ]�����t��oN0������5��i �����a�\_ǚ���ؚ�a�F-���=*�([#+�^��Z�XVG��� {
    "~ame": "ipithon",
$   "versiol": 3
   },
   "file_extension": ".p�",
   "eimetype": !tExt/x-python",
   "~ame": "python",   "nbconvert_expo�ter"* "python",
   "pygments_lexer": "ipython3",
   "version": "3�7.4"
  }
 },
 "nb&ormat": 4,
 "nbformat_minor":�5
}
